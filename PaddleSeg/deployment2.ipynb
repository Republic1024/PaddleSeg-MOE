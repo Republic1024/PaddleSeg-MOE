{
 "cells": [
  {
   "cell_type": "code",
   "execution_count": 4,
   "id": "3b6a3603eba1ef93",
   "metadata": {
    "ExecuteTime": {
     "end_time": "2025-04-09T06:41:27.254098100Z",
     "start_time": "2025-04-09T06:41:27.242002100Z"
    },
    "collapsed": false
   },
   "outputs": [],
   "source": [
    "# !python tools/predict.py --config configs/segmenter/segmenter_rural2.yml --model_path ../output/segmenter_rural2/best_model/model.pdparams  --image_path ../photo/1167.png --save_dir ../output/test"
   ]
  },
  {
   "cell_type": "markdown",
   "id": "070e9562",
   "metadata": {},
   "source": [
    "\n",
    "### 🧪 项目简介：遥感图像多类分割（基于 PP-LiteSeg）\n",
    "\n",
    "本项目基于 **PaddleSeg 提供的 PP-LiteSeg 模型**，用于遥感图像的语义分割任务。数据中包含多种地物标签，模型可输出多类别的像素级分割结果。PPLiteseg: Road Segment, Segmenter: multiple Segment\n",
    "\n",
    "#### 📌 多分类标签说明：\n",
    "\n",
    "| 类别编号 | 类别名称（英文） | 类别名称（中文） | 说明 |\n",
    "|----------|------------------|------------------|------|\n",
    "| 0        | background       | 背景              | 通常为未分类区域 |\n",
    "| 1        | building         | 建筑              | 房屋、厂房等 |\n",
    "| 2        | road             | 道路              | 包括主干道、辅路等 |\n",
    "| 3        | water            | 水体              | 包括河流、湖泊等 |\n",
    "| 4        | barren           | 裸土              | 裸露土地、沙地等 |\n",
    "| 5        | forest           | 林地              | 森林、树木等 |\n",
    "| 6        | agriculture      | 耕地              | 农田、种植区域 |\n"
   ]
  },
  {
   "cell_type": "code",
   "execution_count": 5,
   "id": "5e8959e3",
   "metadata": {},
   "outputs": [
    {
     "data": {
      "text/html": [
       "<div>\n",
       "<style scoped>\n",
       "    .dataframe tbody tr th:only-of-type {\n",
       "        vertical-align: middle;\n",
       "    }\n",
       "\n",
       "    .dataframe tbody tr th {\n",
       "        vertical-align: top;\n",
       "    }\n",
       "\n",
       "    .dataframe thead th {\n",
       "        text-align: right;\n",
       "    }\n",
       "</style>\n",
       "<table border=\"1\" class=\"dataframe\">\n",
       "  <thead>\n",
       "    <tr style=\"text-align: right;\">\n",
       "      <th></th>\n",
       "      <th>类别编号</th>\n",
       "      <th>类别名称（英文）</th>\n",
       "      <th>类别名称（中文）</th>\n",
       "      <th>说明</th>\n",
       "    </tr>\n",
       "  </thead>\n",
       "  <tbody>\n",
       "    <tr>\n",
       "      <th>0</th>\n",
       "      <td>0</td>\n",
       "      <td>background</td>\n",
       "      <td>背景</td>\n",
       "      <td>通常为未分类区域</td>\n",
       "    </tr>\n",
       "    <tr>\n",
       "      <th>1</th>\n",
       "      <td>1</td>\n",
       "      <td>building</td>\n",
       "      <td>建筑</td>\n",
       "      <td>房屋、厂房等</td>\n",
       "    </tr>\n",
       "    <tr>\n",
       "      <th>2</th>\n",
       "      <td>2</td>\n",
       "      <td>road</td>\n",
       "      <td>道路</td>\n",
       "      <td>包括主干道、辅路等</td>\n",
       "    </tr>\n",
       "    <tr>\n",
       "      <th>3</th>\n",
       "      <td>3</td>\n",
       "      <td>water</td>\n",
       "      <td>水体</td>\n",
       "      <td>包括河流、湖泊等</td>\n",
       "    </tr>\n",
       "    <tr>\n",
       "      <th>4</th>\n",
       "      <td>4</td>\n",
       "      <td>barren</td>\n",
       "      <td>裸土</td>\n",
       "      <td>裸露土地、沙地等</td>\n",
       "    </tr>\n",
       "    <tr>\n",
       "      <th>5</th>\n",
       "      <td>5</td>\n",
       "      <td>forest</td>\n",
       "      <td>林地</td>\n",
       "      <td>森林、树木等</td>\n",
       "    </tr>\n",
       "    <tr>\n",
       "      <th>6</th>\n",
       "      <td>6</td>\n",
       "      <td>agriculture</td>\n",
       "      <td>耕地</td>\n",
       "      <td>农田、种植区域</td>\n",
       "    </tr>\n",
       "  </tbody>\n",
       "</table>\n",
       "</div>"
      ],
      "text/plain": [
       "   类别编号     类别名称（英文） 类别名称（中文）         说明\n",
       "0     0   background       背景   通常为未分类区域\n",
       "1     1     building       建筑     房屋、厂房等\n",
       "2     2         road       道路  包括主干道、辅路等\n",
       "3     3        water       水体   包括河流、湖泊等\n",
       "4     4       barren       裸土   裸露土地、沙地等\n",
       "5     5       forest       林地     森林、树木等\n",
       "6     6  agriculture       耕地    农田、种植区域"
      ]
     },
     "execution_count": 5,
     "metadata": {},
     "output_type": "execute_result"
    }
   ],
   "source": [
    "import pandas as pd\n",
    "# 定义表格数据\n",
    "df_label = {\n",
    "    \"类别编号\": [0, 1, 2, 3, 4, 5, 6],\n",
    "    \"类别名称（英文）\": [\"background\", \"building\", \"road\", \"water\", \"barren\", \"forest\", \"agriculture\"],\n",
    "    \"类别名称（中文）\": [\"背景\", \"建筑\", \"道路\", \"水体\", \"裸土\", \"林地\", \"耕地\"],\n",
    "    \"说明\": [\n",
    "        \"通常为未分类区域\",\n",
    "        \"房屋、厂房等\",\n",
    "        \"包括主干道、辅路等\",\n",
    "        \"包括河流、湖泊等\",\n",
    "        \"裸露土地、沙地等\",\n",
    "        \"森林、树木等\",\n",
    "        \"农田、种植区域\"\n",
    "    ]\n",
    "}\n",
    "df_label = pd.DataFrame(df_label)\n",
    "df_label"
   ]
  },
  {
   "cell_type": "code",
   "execution_count": null,
   "id": "c8e389ee83604ad0",
   "metadata": {
    "ExecuteTime": {
     "end_time": "2025-04-09T06:50:03.099193800Z",
     "start_time": "2025-04-09T06:49:59.405768800Z"
    },
    "collapsed": false
   },
   "outputs": [
    {
     "name": "stdout",
     "output_type": "stream",
     "text": [
      "[🚀] 正在用 PP-LiteSeg 推理图像：11\n",
      "[🔍] 检查输出文件：../output/test\\pseudo_color_prediction\\11.png\n",
      "[✅] 成功读取输出文件：../output/test\\pseudo_color_prediction\\11.png\n"
     ]
    }
   ],
   "source": [
    "import os\n",
    "import numpy as np\n",
    "from PIL import Image\n",
    "import subprocess\n",
    "import numpy as np\n",
    "import matplotlib.pyplot as plt\n",
    "import warnings\n",
    "import pandas as pd\n",
    "import seaborn as sns\n",
    "from pylab import mpl, plt\n",
    "from skimage import io\n",
    "\n",
    "# best font and style settings for notebook \n",
    "warnings.filterwarnings('ignore')\n",
    "sns.set_style(\"white\")\n",
    "mpl.rcParams['font.family'] = 'MiSans'\n",
    "\n",
    "\n",
    "# 生成一个随机数据集（正态分布）\n",
    "\n",
    "def predict_mask(image_path: str,\n",
    "                 config_path: str = \"configs/segmenter/segmenter_rural2.yml\",\n",
    "                 model_path: str = \"../output/segmenter_rural2/best_model/model.pdparams\",\n",
    "                 save_dir: str = \"../output/test\") -> np.ndarray:\n",
    "    \"\"\"\n",
    "    调用 PaddleSeg 的 predict.py 对输入图像进行分割预测，并返回对应的 mask np.ndarray。\n",
    "    \"\"\"\n",
    "    # 调用 PaddleSeg 的命令行预测\n",
    "    cmd = [\n",
    "        \"python\", \"tools/predict.py\",\n",
    "        \"--config\", config_path,\n",
    "        \"--model_path\", model_path,\n",
    "        \"--image_path\", image_path,\n",
    "        \"--save_dir\", save_dir\n",
    "    ]\n",
    "    print(f\"[🚀] 正在用 PP-LiteSeg 推理图像（仅道路）：{image_name}\")\n",
    "    subprocess.run(cmd, check=True)\n",
    "\n",
    "    # 构造保存的 mask 路径\n",
    "    image_name = os.path.splitext(os.path.basename(image_path))[0]\n",
    "    mask_path = os.path.join(save_dir, \"pseudo_color_prediction\", f\"{image_name}.png\")\n",
    "\n",
    "    # 读取 mask 图像\n",
    "    if not os.path.exists(mask_path):\n",
    "        print(f\"[❌] 未找到输出文件：{mask_path}\")\n",
    "        raise FileNotFoundError(f\"预测的mask文件未找到: {mask_path}\")\n",
    "\n",
    "    else:\n",
    "        print(f\"[✅] 成功读取输出文件：{mask_path}\")\n",
    "    mask_img = Image.open(mask_path)\n",
    "    mask_np = np.array(mask_img)\n",
    "\n",
    "    return mask_np\n",
    "\n",
    "\n",
    "def road_seg(image_path: str) -> np.ndarray:\n",
    "    \"\"\"\n",
    "    使用 PP-LiteSeg 模型对单张图像进行推理，返回预测后的 mask np.ndarray。\n",
    "    \n",
    "    参数:\n",
    "        image_path (str): 输入图像路径\n",
    "\n",
    "    返回:\n",
    "        mask_np (np.ndarray): 推理后的分割图 numpy 数组（若失败则返回 None）\n",
    "    \"\"\"\n",
    "    # 固定配置和路径\n",
    "    config_path = \"configs/road_seg/pp_liteseg_stdc1_deepglobe_infer.yml\"\n",
    "    model_path = \"pp_liteseg_stdc1_deepglobe.pdparams\"\n",
    "    save_dir = \"../output/test\"\n",
    "    pseudo_dir = os.path.join(save_dir, \"pseudo_color_prediction\")\n",
    "\n",
    "    # 图像名（不带扩展名）\n",
    "    image_name = os.path.splitext(os.path.basename(image_path))[0]\n",
    "    print(f\"[🚀] 正在用 Sengmenter 推理图像(多分类)：{image_name}\")\n",
    "\n",
    "    # 构建命令并执行\n",
    "    cmd = [\n",
    "        \"python\", \"tools/predict.py\",\n",
    "        \"--config\", config_path,\n",
    "        \"--model_path\", model_path,\n",
    "        \"--image_path\", image_path,\n",
    "        \"--save_dir\", save_dir\n",
    "    ]\n",
    "    subprocess.run(cmd, check=True)\n",
    "\n",
    "    # 输出 mask 路径\n",
    "    output_path = os.path.join(pseudo_dir, f\"{image_name}.png\")\n",
    "    print(f\"[🔍] 检查输出文件：{output_path}\")\n",
    "\n",
    "    if os.path.exists(output_path):\n",
    "        print(f\"[✅] 成功读取输出文件：{output_path}\")\n",
    "        mask_img = Image.open(output_path)\n",
    "        mask_np = np.array(mask_img)\n",
    "        return mask_np\n",
    "    else:\n",
    "        print(f\"[❌] 未找到输出文件：{output_path}\")\n",
    "        return None\n",
    "\n",
    "\n",
    "test_image = \"../photo/11.png\"\n",
    "road_mask = road_seg(test_image)"
   ]
  },
  {
   "cell_type": "code",
   "execution_count": 7,
   "id": "cff13626fe2bde5c",
   "metadata": {
    "ExecuteTime": {
     "end_time": "2025-04-09T06:50:44.041293200Z",
     "start_time": "2025-04-09T06:50:43.821050800Z"
    },
    "collapsed": false
   },
   "outputs": [
    {
     "data": {
      "text/plain": [
       "<matplotlib.image.AxesImage at 0x269799b43d0>"
      ]
     },
     "execution_count": 7,
     "metadata": {},
     "output_type": "execute_result"
    },
    {
     "data": {
      "image/png": "[encoded data removed]",
      "text/plain": [
       "<Figure size 640x480 with 2 Axes>"
      ]
     },
     "metadata": {},
     "output_type": "display_data"
    }
   ],
   "source": [
    "io.imshow(road_mask)"
   ]
  },
  {
   "cell_type": "code",
   "execution_count": 8,
   "id": "f9d126aad0388b95",
   "metadata": {
    "ExecuteTime": {
     "end_time": "2025-04-09T06:51:19.443616300Z",
     "start_time": "2025-04-09T06:51:14.306172800Z"
    },
    "collapsed": false
   },
   "outputs": [],
   "source": [
    "\n",
    "mask = predict_mask(test_image)"
   ]
  },
  {
   "cell_type": "code",
   "execution_count": 9,
   "id": "8672748800e8bc2b",
   "metadata": {
    "ExecuteTime": {
     "end_time": "2025-04-09T06:52:15.933563200Z",
     "start_time": "2025-04-09T06:52:15.768895100Z"
    },
    "collapsed": false
   },
   "outputs": [
    {
     "name": "stdout",
     "output_type": "stream",
     "text": [
      "Mask shape: (659, 718)\n",
      "[0 1 3 4 6]\n",
      "(659, 718) (659, 718)\n"
     ]
    },
    {
     "data": {
      "text/plain": [
       "<matplotlib.image.AxesImage at 0x26979a5d160>"
      ]
     },
     "execution_count": 9,
     "metadata": {},
     "output_type": "execute_result"
    },
    {
     "data": {
      "image/png": "[encoded data removed]",
      "text/plain": [
       "<Figure size 640x480 with 2 Axes>"
      ]
     },
     "metadata": {},
     "output_type": "display_data"
    }
   ],
   "source": [
    "print(\"Mask shape:\", mask.shape)\n",
    "print(np.unique(mask))  # total 7 type\n",
    "print(road_mask.shape,mask.shape)\n",
    "io.imshow(mask)"
   ]
  },
  {
   "cell_type": "code",
   "execution_count": 10,
   "id": "6852d5f7de247de9",
   "metadata": {
    "ExecuteTime": {
     "end_time": "2025-04-09T06:54:10.666253500Z",
     "start_time": "2025-04-09T06:54:10.647450500Z"
    },
    "collapsed": false
   },
   "outputs": [
    {
     "data": {
      "text/plain": [
       "array([[4, 4, 4, ..., 6, 6, 6],\n",
       "       [4, 4, 4, ..., 6, 6, 6],\n",
       "       [4, 4, 4, ..., 6, 6, 6],\n",
       "       ...,\n",
       "       [0, 0, 0, ..., 6, 6, 6],\n",
       "       [0, 0, 0, ..., 6, 6, 6],\n",
       "       [0, 0, 0, ..., 6, 6, 6]], dtype=uint8)"
      ]
     },
     "execution_count": 10,
     "metadata": {},
     "output_type": "execute_result"
    }
   ],
   "source": [
    "mask[road_mask == 1] = 7# 2: road\n",
    "mask"
   ]
  },
  {
   "cell_type": "code",
   "execution_count": 11,
   "id": "cbf18d9f",
   "metadata": {},
   "outputs": [
    {
     "data": {
      "text/plain": [
       "array([0, 1, 3, 4, 6, 7], dtype=uint8)"
      ]
     },
     "execution_count": 11,
     "metadata": {},
     "output_type": "execute_result"
    }
   ],
   "source": [
    "np.unique(mask)"
   ]
  },
  {
   "cell_type": "code",
   "execution_count": 28,
   "id": "a04f902d868d158b",
   "metadata": {
    "ExecuteTime": {
     "end_time": "2025-04-09T06:54:21.568043900Z",
     "start_time": "2025-04-09T06:54:21.408516300Z"
    },
    "collapsed": false
   },
   "outputs": [
    {
     "data": {
      "text/plain": [
       "<matplotlib.image.AxesImage at 0x1756d927760>"
      ]
     },
     "execution_count": 28,
     "metadata": {},
     "output_type": "execute_result"
    },
    {
     "data": {
      "image/png": "[encoded data removed]",
      "text/plain": [
       "<Figure size 640x480 with 2 Axes>"
      ]
     },
     "metadata": {},
     "output_type": "display_data"
    }
   ],
   "source": [
    "io.imshow(mask)"
   ]
  },
  {
   "cell_type": "code",
   "execution_count": 9,
   "id": "e4f98b230de0d5f9",
   "metadata": {
    "ExecuteTime": {
     "end_time": "2025-04-09T06:40:35.046456300Z",
     "start_time": "2025-04-09T06:40:35.020870800Z"
    },
    "collapsed": false
   },
   "outputs": [
    {
     "data": {
      "text/plain": [
       "array([3, 5], dtype=uint8)"
      ]
     },
     "execution_count": 9,
     "metadata": {},
     "output_type": "execute_result"
    }
   ],
   "source": [
    "import numpy as np\n",
    "import matplotlib.pyplot as plt\n",
    "import warnings\n",
    "import pandas as pd\n",
    "import seaborn as sns\n",
    "from pylab import mpl, plt\n",
    "\n",
    "# best font and style settings for notebook \n",
    "warnings.filterwarnings('ignore')\n",
    "sns.set_style(\"white\")\n",
    "mpl.rcParams['font.family'] = 'MiSans'\n",
    "# 生成一个随机数据集（正态分布）\n",
    "\n",
    "np.unique(mask)"
   ]
  },
  {
   "cell_type": "code",
   "execution_count": null,
   "id": "13061d051b51da9c",
   "metadata": {
    "collapsed": false
   },
   "outputs": [],
   "source": []
  }
 ],
 "metadata": {
  "kernelspec": {
   "display_name": "ps_3",
   "language": "python",
   "name": "python3"
  },
  "language_info": {
   "codemirror_mode": {
    "name": "ipython",
    "version": 3
   },
   "file_extension": ".py",
   "mimetype": "text/x-python",
   "name": "python",
   "nbconvert_exporter": "python",
   "pygments_lexer": "ipython3",
   "version": "3.9.21"
  }
 },
 "nbformat": 4,
 "nbformat_minor": 5
}
