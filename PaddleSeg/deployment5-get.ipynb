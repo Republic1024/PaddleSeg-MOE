{
 "cells": [
  {
   "cell_type": "code",
   "execution_count": 5,
   "id": "3b6a3603eba1ef93",
   "metadata": {
    "collapsed": false,
    "ExecuteTime": {
     "end_time": "2025-04-09T08:46:18.545768500Z",
     "start_time": "2025-04-09T08:46:18.536031300Z"
    }
   },
   "outputs": [],
   "source": [
    "# !python tools/predict.py --config configs/segmenter/segmenter_rural2.yml --model_path ../output/segmenter_rural2/best_model/model.pdparams  --image_path ../photo/1167.png --save_dir ../output/test"
   ]
  },
  {
   "cell_type": "markdown",
   "id": "070e9562",
   "metadata": {},
   "source": [
    "\n",
    "### 🧪 项目简介：遥感图像多类分割（基于 PP-LiteSeg）\n",
    "\n",
    "本项目基于 **PaddleSeg 提供的 PP-LiteSeg 模型**，用于遥感图像的语义分割任务。数据中包含多种地物标签，模型可输出多类别的像素级分割结果。PPLiteseg: Road Segment, Segmenter: multiple Segment\n",
    "\n",
    "#### 📌 多分类标签说明：\n",
    "\n",
    "| 类别编号 | 类别名称（英文） | 类别名称（中文） | 说明 |\n",
    "|----------|------------------|------------------|------|\n",
    "| 0        | background       | 背景              | 通常为未分类区域 |\n",
    "| 1        | building         | 建筑              | 房屋、厂房等 |\n",
    "| 2        | road             | 道路              | 包括主干道、辅路等 |\n",
    "| 3        | water            | 水体              | 包括河流、湖泊等 |\n",
    "| 4        | barren           | 裸土              | 裸露土地、沙地等 |\n",
    "| 5        | forest           | 林地              | 森林、树木等 |\n",
    "| 6        | agriculture      | 耕地              | 农田、种植区域 |\n"
   ]
  },
  {
   "cell_type": "code",
   "outputs": [
    {
     "data": {
      "text/plain": "   类别编号     类别名称（英文） 类别名称（中文）         说明\n0     0   background       背景   通常为未分类区域\n1     1     building       建筑     房屋、厂房等\n2     2         road       道路  包括主干道、辅路等\n3     3        water       水体   包括河流、湖泊等\n4     4       barren       裸土   裸露土地、沙地等\n5     5       forest       林地     森林、树木等\n6     6  agriculture       耕地    农田、种植区域",
      "text/html": "<div>\n<style scoped>\n    .dataframe tbody tr th:only-of-type {\n        vertical-align: middle;\n    }\n\n    .dataframe tbody tr th {\n        vertical-align: top;\n    }\n\n    .dataframe thead th {\n        text-align: right;\n    }\n</style>\n<table border=\"1\" class=\"dataframe\">\n  <thead>\n    <tr style=\"text-align: right;\">\n      <th></th>\n      <th>类别编号</th>\n      <th>类别名称（英文）</th>\n      <th>类别名称（中文）</th>\n      <th>说明</th>\n    </tr>\n  </thead>\n  <tbody>\n    <tr>\n      <th>0</th>\n      <td>0</td>\n      <td>background</td>\n      <td>背景</td>\n      <td>通常为未分类区域</td>\n    </tr>\n    <tr>\n      <th>1</th>\n      <td>1</td>\n      <td>building</td>\n      <td>建筑</td>\n      <td>房屋、厂房等</td>\n    </tr>\n    <tr>\n      <th>2</th>\n      <td>2</td>\n      <td>road</td>\n      <td>道路</td>\n      <td>包括主干道、辅路等</td>\n    </tr>\n    <tr>\n      <th>3</th>\n      <td>3</td>\n      <td>water</td>\n      <td>水体</td>\n      <td>包括河流、湖泊等</td>\n    </tr>\n    <tr>\n      <th>4</th>\n      <td>4</td>\n      <td>barren</td>\n      <td>裸土</td>\n      <td>裸露土地、沙地等</td>\n    </tr>\n    <tr>\n      <th>5</th>\n      <td>5</td>\n      <td>forest</td>\n      <td>林地</td>\n      <td>森林、树木等</td>\n    </tr>\n    <tr>\n      <th>6</th>\n      <td>6</td>\n      <td>agriculture</td>\n      <td>耕地</td>\n      <td>农田、种植区域</td>\n    </tr>\n  </tbody>\n</table>\n</div>"
     },
     "execution_count": 7,
     "metadata": {},
     "output_type": "execute_result"
    }
   ],
   "source": [
    "import pandas as pd\n",
    "import numpy as np\n",
    "\n",
    "# 定义表格数据\n",
    "df_label = {\n",
    "    \"类别编号\": [0, 1, 2, 3, 4, 5, 6],\n",
    "    \"类别名称（英文）\": [\"background\", \"building\", \"road\", \"water\", \"barren\", \"forest\", \"agriculture\"],\n",
    "    \"类别名称（中文）\": [\"背景\", \"建筑\", \"道路\", \"水体\", \"裸土\", \"林地\", \"耕地\"],\n",
    "    \"说明\": [\n",
    "        \"通常为未分类区域\",\n",
    "        \"房屋、厂房等\",\n",
    "        \"包括主干道、辅路等\",\n",
    "        \"包括河流、湖泊等\",\n",
    "        \"裸露土地、沙地等\",\n",
    "        \"森林、树木等\",\n",
    "        \"农田、种植区域\"\n",
    "    ]\n",
    "}\n",
    "# 构造类别编号到 RGB 的映射（索引即为类别编号）\n",
    "id2color = np.array(\n",
    "    [\n",
    "        [0, 0, 0],  # 0 - 背景\n",
    "        [220, 20, 60],  # 1 - 建筑\n",
    "        [128, 64, 128],  # 2 - 道路\n",
    "        [0, 0, 255],  # 3 - 水体\n",
    "        [210, 180, 140],  # 4 - 裸土\n",
    "        [34, 139, 34],  # 5 - 林地\n",
    "        [255, 255, 0],  # 6 - 耕地\n",
    "    ],\n",
    "    dtype=np.uint8,\n",
    ")\n",
    "df_label = pd.DataFrame(df_label)\n",
    "df_label"
   ],
   "metadata": {
    "collapsed": false,
    "ExecuteTime": {
     "end_time": "2025-04-09T08:49:44.709144100Z",
     "start_time": "2025-04-09T08:49:44.686642300Z"
    }
   },
   "id": "458cb7b72d7c4377",
   "execution_count": 7
  },
  {
   "cell_type": "code",
   "execution_count": null,
   "id": "c8e389ee83604ad0",
   "metadata": {
    "ExecuteTime": {
     "end_time": "2025-04-09T06:50:03.099193800Z",
     "start_time": "2025-04-09T06:49:59.405768800Z"
    },
    "collapsed": false
   },
   "outputs": [],
   "source": [
    "import os\n",
    "import numpy as np\n",
    "from PIL import Image\n",
    "import matplotlib.pyplot as plt\n",
    "import warnings\n",
    "import pandas as pd\n",
    "import seaborn as sns\n",
    "from pylab import mpl\n",
    "from skimage import io\n",
    "\n",
    "# 配置 Notebook 的字体和风格\n",
    "warnings.filterwarnings(\"ignore\")\n",
    "sns.set_style(\"white\")\n",
    "mpl.rcParams[\"font.family\"] = \"MiSans\"\n",
    "\n",
    "# 🚀 示例调用（推荐放在 notebook 的代码单元中）\n",
    "\n",
    "from infer_all import road_seg, all_seg, overlay_mask_on_image\n",
    "\n",
    "test_image = \"../photo/1173.png\"\n",
    "\n",
    "# ✅ 道路分割模型（只分出 road 类）\n",
    "road_mask = road_seg(\n",
    "    image_path=test_image,\n",
    "    config_path=\"configs/road_seg/pp_liteseg_stdc1_deepglobe_infer.yml\",\n",
    "    model_path=\"pp_liteseg_stdc1_deepglobe.pdparams\",\n",
    "    save_dir=\"../output/test\",\n",
    ")\n",
    "\n",
    "# ✅ 多类地物分割模型（输出0~6的语义mask）\n",
    "mask = all_seg(\n",
    "    image_path=test_image,\n",
    "    config_path=\"configs/segmenter/segmenter_rural2.yml\",\n",
    "    model_path=\"../output/segmenter_rural2/best_model/model.pdparams\",\n",
    "    save_dir=\"../output/test\",\n",
    ")\n",
    "\n",
    "# ✅ 可选备份一份副本（用于后续处理）\n",
    "mask_2 = mask.copy()\n",
    "mask[road_mask == 1] = 2  # 2: road\n",
    "# 读取图像（确保是 RGB）\n",
    "img = np.array(Image.open(test_image).convert(\"RGB\"))\n",
    "\n",
    "# 类别映射（前面定义的 id2color）\n",
    "colored_overlay = overlay_mask_on_image(img, mask, id2color, alpha=0.3)\n",
    "io.imshow(colored_overlay)"
   ]
  },
  {
   "cell_type": "code",
   "execution_count": 1,
   "id": "a64de2d9",
   "metadata": {},
   "outputs": [
    {
     "name": "stdout",
     "output_type": "stream",
     "text": [
      "[✅] 成功读取输出文件：../output/test\\pseudo_color_prediction\\15.png\n"
     ]
    },
    {
     "name": "stderr",
     "output_type": "stream",
     "text": [
      " 60%|█████▉    | 49/82 [07:08<04:46,  8.67s/it]"
     ]
    },
    {
     "name": "stdout",
     "output_type": "stream",
     "text": [
      "[✅] 已保存至 ../output/vis/15_*.png\n",
      "\n",
      "[🚀] 正在处理：186.png\n",
      "[🚗] 正在用 PP-LiteSeg 道路模型推理图像：../photo\\186.png\n",
      "[✅] 成功读取道路分割结果：../output/test\\pseudo_color_prediction\\186.png\n",
      "[🚀] 正在用 PP-LiteSeg 推理图像（多分类）：../photo\\186.png\n",
      "[✅] 成功读取输出文件：../output/test\\pseudo_color_prediction\\186.png\n"
     ]
    },
    {
     "name": "stderr",
     "output_type": "stream",
     "text": [
      " 61%|██████    | 50/82 [07:17<04:39,  8.73s/it]"
     ]
    },
    {
     "name": "stdout",
     "output_type": "stream",
     "text": [
      "[✅] 已保存至 ../output/vis/186_*.png\n",
      "\n",
      "[🚀] 正在处理：187.png\n",
      "[🚗] 正在用 PP-LiteSeg 道路模型推理图像：../photo\\187.png\n",
      "[✅] 成功读取道路分割结果：../output/test\\pseudo_color_prediction\\187.png\n",
      "[🚀] 正在用 PP-LiteSeg 推理图像（多分类）：../photo\\187.png\n",
      "[✅] 成功读取输出文件：../output/test\\pseudo_color_prediction\\187.png\n"
     ]
    },
    {
     "name": "stderr",
     "output_type": "stream",
     "text": [
      " 62%|██████▏   | 51/82 [07:26<04:29,  8.69s/it]"
     ]
    },
    {
     "name": "stdout",
     "output_type": "stream",
     "text": [
      "[✅] 已保存至 ../output/vis/187_*.png\n",
      "\n",
      "[🚀] 正在处理：188.png\n",
      "[🚗] 正在用 PP-LiteSeg 道路模型推理图像：../photo\\188.png\n",
      "[✅] 成功读取道路分割结果：../output/test\\pseudo_color_prediction\\188.png\n",
      "[🚀] 正在用 PP-LiteSeg 推理图像（多分类）：../photo\\188.png\n",
      "[✅] 成功读取输出文件：../output/test\\pseudo_color_prediction\\188.png\n"
     ]
    },
    {
     "name": "stderr",
     "output_type": "stream",
     "text": [
      " 63%|██████▎   | 52/82 [07:35<04:23,  8.79s/it]"
     ]
    },
    {
     "name": "stdout",
     "output_type": "stream",
     "text": [
      "[✅] 已保存至 ../output/vis/188_*.png\n",
      "\n",
      "[🚀] 正在处理：189.png\n",
      "[🚗] 正在用 PP-LiteSeg 道路模型推理图像：../photo\\189.png\n",
      "[✅] 成功读取道路分割结果：../output/test\\pseudo_color_prediction\\189.png\n",
      "[🚀] 正在用 PP-LiteSeg 推理图像（多分类）：../photo\\189.png\n",
      "[✅] 成功读取输出文件：../output/test\\pseudo_color_prediction\\189.png\n"
     ]
    },
    {
     "name": "stderr",
     "output_type": "stream",
     "text": [
      " 65%|██████▍   | 53/82 [07:43<04:13,  8.75s/it]"
     ]
    },
    {
     "name": "stdout",
     "output_type": "stream",
     "text": [
      "[✅] 已保存至 ../output/vis/189_*.png\n",
      "\n",
      "[🚀] 正在处理：190.png\n",
      "[🚗] 正在用 PP-LiteSeg 道路模型推理图像：../photo\\190.png\n",
      "[✅] 成功读取道路分割结果：../output/test\\pseudo_color_prediction\\190.png\n",
      "[🚀] 正在用 PP-LiteSeg 推理图像（多分类）：../photo\\190.png\n",
      "[✅] 成功读取输出文件：../output/test\\pseudo_color_prediction\\190.png\n"
     ]
    },
    {
     "name": "stderr",
     "output_type": "stream",
     "text": [
      " 66%|██████▌   | 54/82 [07:52<04:04,  8.75s/it]"
     ]
    },
    {
     "name": "stdout",
     "output_type": "stream",
     "text": [
      "[✅] 已保存至 ../output/vis/190_*.png\n",
      "\n",
      "[🚀] 正在处理：191.png\n",
      "[🚗] 正在用 PP-LiteSeg 道路模型推理图像：../photo\\191.png\n",
      "[✅] 成功读取道路分割结果：../output/test\\pseudo_color_prediction\\191.png\n",
      "[🚀] 正在用 PP-LiteSeg 推理图像（多分类）：../photo\\191.png\n",
      "[✅] 成功读取输出文件：../output/test\\pseudo_color_prediction\\191.png\n"
     ]
    },
    {
     "name": "stderr",
     "output_type": "stream",
     "text": [
      " 67%|██████▋   | 55/82 [08:01<03:57,  8.79s/it]"
     ]
    },
    {
     "name": "stdout",
     "output_type": "stream",
     "text": [
      "[✅] 已保存至 ../output/vis/191_*.png\n",
      "\n",
      "[🚀] 正在处理：192.png\n",
      "[🚗] 正在用 PP-LiteSeg 道路模型推理图像：../photo\\192.png\n",
      "[✅] 成功读取道路分割结果：../output/test\\pseudo_color_prediction\\192.png\n",
      "[🚀] 正在用 PP-LiteSeg 推理图像（多分类）：../photo\\192.png\n",
      "[✅] 成功读取输出文件：../output/test\\pseudo_color_prediction\\192.png\n"
     ]
    },
    {
     "name": "stderr",
     "output_type": "stream",
     "text": [
      " 68%|██████▊   | 56/82 [08:10<03:48,  8.79s/it]"
     ]
    },
    {
     "name": "stdout",
     "output_type": "stream",
     "text": [
      "[✅] 已保存至 ../output/vis/192_*.png\n",
      "\n",
      "[🚀] 正在处理：193.png\n",
      "[🚗] 正在用 PP-LiteSeg 道路模型推理图像：../photo\\193.png\n",
      "[✅] 成功读取道路分割结果：../output/test\\pseudo_color_prediction\\193.png\n",
      "[🚀] 正在用 PP-LiteSeg 推理图像（多分类）：../photo\\193.png\n",
      "[✅] 成功读取输出文件：../output/test\\pseudo_color_prediction\\193.png\n"
     ]
    },
    {
     "name": "stderr",
     "output_type": "stream",
     "text": [
      " 70%|██████▉   | 57/82 [08:19<03:39,  8.78s/it]"
     ]
    },
    {
     "name": "stdout",
     "output_type": "stream",
     "text": [
      "[✅] 已保存至 ../output/vis/193_*.png\n",
      "\n",
      "[🚀] 正在处理：194.png\n",
      "[🚗] 正在用 PP-LiteSeg 道路模型推理图像：../photo\\194.png\n",
      "[✅] 成功读取道路分割结果：../output/test\\pseudo_color_prediction\\194.png\n",
      "[🚀] 正在用 PP-LiteSeg 推理图像（多分类）：../photo\\194.png\n",
      "[✅] 成功读取输出文件：../output/test\\pseudo_color_prediction\\194.png\n"
     ]
    },
    {
     "name": "stderr",
     "output_type": "stream",
     "text": [
      " 71%|███████   | 58/82 [08:27<03:30,  8.77s/it]"
     ]
    },
    {
     "name": "stdout",
     "output_type": "stream",
     "text": [
      "[✅] 已保存至 ../output/vis/194_*.png\n",
      "\n",
      "[🚀] 正在处理：195.png\n",
      "[🚗] 正在用 PP-LiteSeg 道路模型推理图像：../photo\\195.png\n",
      "[✅] 成功读取道路分割结果：../output/test\\pseudo_color_prediction\\195.png\n",
      "[🚀] 正在用 PP-LiteSeg 推理图像（多分类）：../photo\\195.png\n",
      "[✅] 成功读取输出文件：../output/test\\pseudo_color_prediction\\195.png\n"
     ]
    },
    {
     "name": "stderr",
     "output_type": "stream",
     "text": [
      " 72%|███████▏  | 59/82 [08:36<03:22,  8.79s/it]"
     ]
    },
    {
     "name": "stdout",
     "output_type": "stream",
     "text": [
      "[✅] 已保存至 ../output/vis/195_*.png\n",
      "\n",
      "[🚀] 正在处理：196.png\n",
      "[🚗] 正在用 PP-LiteSeg 道路模型推理图像：../photo\\196.png\n",
      "[✅] 成功读取道路分割结果：../output/test\\pseudo_color_prediction\\196.png\n",
      "[🚀] 正在用 PP-LiteSeg 推理图像（多分类）：../photo\\196.png\n",
      "[✅] 成功读取输出文件：../output/test\\pseudo_color_prediction\\196.png\n"
     ]
    },
    {
     "name": "stderr",
     "output_type": "stream",
     "text": [
      " 73%|███████▎  | 60/82 [08:45<03:13,  8.81s/it]"
     ]
    },
    {
     "name": "stdout",
     "output_type": "stream",
     "text": [
      "[✅] 已保存至 ../output/vis/196_*.png\n",
      "\n",
      "[🚀] 正在处理：197.png\n",
      "[🚗] 正在用 PP-LiteSeg 道路模型推理图像：../photo\\197.png\n",
      "[✅] 成功读取道路分割结果：../output/test\\pseudo_color_prediction\\197.png\n",
      "[🚀] 正在用 PP-LiteSeg 推理图像（多分类）：../photo\\197.png\n",
      "[✅] 成功读取输出文件：../output/test\\pseudo_color_prediction\\197.png\n"
     ]
    },
    {
     "name": "stderr",
     "output_type": "stream",
     "text": [
      " 74%|███████▍  | 61/82 [08:54<03:04,  8.78s/it]"
     ]
    },
    {
     "name": "stdout",
     "output_type": "stream",
     "text": [
      "[✅] 已保存至 ../output/vis/197_*.png\n",
      "\n",
      "[🚀] 正在处理：2.jpg\n",
      "[🚗] 正在用 PP-LiteSeg 道路模型推理图像：../photo\\2.jpg\n",
      "[✅] 成功读取道路分割结果：../output/test\\pseudo_color_prediction\\2.png\n",
      "[🚀] 正在用 PP-LiteSeg 推理图像（多分类）：../photo\\2.jpg\n",
      "[✅] 成功读取输出文件：../output/test\\pseudo_color_prediction\\2.png\n"
     ]
    },
    {
     "name": "stderr",
     "output_type": "stream",
     "text": [
      " 76%|███████▌  | 62/82 [09:02<02:55,  8.76s/it]"
     ]
    },
    {
     "name": "stdout",
     "output_type": "stream",
     "text": [
      "[✅] 已保存至 ../output/vis/2_*.png\n",
      "\n",
      "[🚀] 正在处理：230f9d15e0bc4bff33e11a6744598c0f.png\n",
      "[🚗] 正在用 PP-LiteSeg 道路模型推理图像：../photo\\230f9d15e0bc4bff33e11a6744598c0f.png\n",
      "[✅] 成功读取道路分割结果：../output/test\\pseudo_color_prediction\\230f9d15e0bc4bff33e11a6744598c0f.png\n",
      "[🚀] 正在用 PP-LiteSeg 推理图像（多分类）：../photo\\230f9d15e0bc4bff33e11a6744598c0f.png\n",
      "[✅] 成功读取输出文件：../output/test\\pseudo_color_prediction\\230f9d15e0bc4bff33e11a6744598c0f.png\n"
     ]
    },
    {
     "name": "stderr",
     "output_type": "stream",
     "text": [
      " 77%|███████▋  | 63/82 [09:11<02:45,  8.73s/it]"
     ]
    },
    {
     "name": "stdout",
     "output_type": "stream",
     "text": [
      "[✅] 已保存至 ../output/vis/230f9d15e0bc4bff33e11a6744598c0f_*.png\n",
      "\n",
      "[🚀] 正在处理：3.jpg\n",
      "[🚗] 正在用 PP-LiteSeg 道路模型推理图像：../photo\\3.jpg\n",
      "[✅] 成功读取道路分割结果：../output/test\\pseudo_color_prediction\\3.png\n",
      "[🚀] 正在用 PP-LiteSeg 推理图像（多分类）：../photo\\3.jpg\n",
      "[✅] 成功读取输出文件：../output/test\\pseudo_color_prediction\\3.png\n"
     ]
    },
    {
     "name": "stderr",
     "output_type": "stream",
     "text": [
      " 78%|███████▊  | 64/82 [09:19<02:34,  8.61s/it]"
     ]
    },
    {
     "name": "stdout",
     "output_type": "stream",
     "text": [
      "[✅] 已保存至 ../output/vis/3_*.png\n",
      "\n",
      "[🚀] 正在处理：4.jpg\n",
      "[🚗] 正在用 PP-LiteSeg 道路模型推理图像：../photo\\4.jpg\n",
      "[✅] 成功读取道路分割结果：../output/test\\pseudo_color_prediction\\4.png\n",
      "[🚀] 正在用 PP-LiteSeg 推理图像（多分类）：../photo\\4.jpg\n",
      "[✅] 成功读取输出文件：../output/test\\pseudo_color_prediction\\4.png\n"
     ]
    },
    {
     "name": "stderr",
     "output_type": "stream",
     "text": [
      " 79%|███████▉  | 65/82 [09:28<02:25,  8.53s/it]"
     ]
    },
    {
     "name": "stdout",
     "output_type": "stream",
     "text": [
      "[✅] 已保存至 ../output/vis/4_*.png\n",
      "\n",
      "[🚀] 正在处理：6.png\n",
      "[🚗] 正在用 PP-LiteSeg 道路模型推理图像：../photo\\6.png\n",
      "[✅] 成功读取道路分割结果：../output/test\\pseudo_color_prediction\\6.png\n",
      "[🚀] 正在用 PP-LiteSeg 推理图像（多分类）：../photo\\6.png\n",
      "[✅] 成功读取输出文件：../output/test\\pseudo_color_prediction\\6.png\n"
     ]
    },
    {
     "name": "stderr",
     "output_type": "stream",
     "text": [
      " 80%|████████  | 66/82 [09:38<02:26,  9.17s/it]"
     ]
    },
    {
     "name": "stdout",
     "output_type": "stream",
     "text": [
      "[✅] 已保存至 ../output/vis/6_*.png\n",
      "\n",
      "[🚀] 正在处理：7.png\n",
      "[🚗] 正在用 PP-LiteSeg 道路模型推理图像：../photo\\7.png\n",
      "[✅] 成功读取道路分割结果：../output/test\\pseudo_color_prediction\\7.png\n",
      "[🚀] 正在用 PP-LiteSeg 推理图像（多分类）：../photo\\7.png\n",
      "[✅] 成功读取输出文件：../output/test\\pseudo_color_prediction\\7.png\n"
     ]
    },
    {
     "name": "stderr",
     "output_type": "stream",
     "text": [
      " 82%|████████▏ | 67/82 [09:49<02:23,  9.53s/it]"
     ]
    },
    {
     "name": "stdout",
     "output_type": "stream",
     "text": [
      "[✅] 已保存至 ../output/vis/7_*.png\n",
      "\n",
      "[🚀] 正在处理：8.png\n",
      "[🚗] 正在用 PP-LiteSeg 道路模型推理图像：../photo\\8.png\n",
      "[✅] 成功读取道路分割结果：../output/test\\pseudo_color_prediction\\8.png\n",
      "[🚀] 正在用 PP-LiteSeg 推理图像（多分类）：../photo\\8.png\n",
      "[✅] 成功读取输出文件：../output/test\\pseudo_color_prediction\\8.png\n"
     ]
    },
    {
     "name": "stderr",
     "output_type": "stream",
     "text": [
      " 83%|████████▎ | 68/82 [09:57<02:09,  9.22s/it]"
     ]
    },
    {
     "name": "stdout",
     "output_type": "stream",
     "text": [
      "[✅] 已保存至 ../output/vis/8_*.png\n",
      "\n",
      "[🚀] 正在处理：9.png\n",
      "[🚗] 正在用 PP-LiteSeg 道路模型推理图像：../photo\\9.png\n",
      "[✅] 成功读取道路分割结果：../output/test\\pseudo_color_prediction\\9.png\n",
      "[🚀] 正在用 PP-LiteSeg 推理图像（多分类）：../photo\\9.png\n",
      "[✅] 成功读取输出文件：../output/test\\pseudo_color_prediction\\9.png\n"
     ]
    },
    {
     "name": "stderr",
     "output_type": "stream",
     "text": [
      " 84%|████████▍ | 69/82 [10:06<01:57,  9.00s/it]"
     ]
    },
    {
     "name": "stdout",
     "output_type": "stream",
     "text": [
      "[✅] 已保存至 ../output/vis/9_*.png\n",
      "\n",
      "[🚀] 正在处理：GF2_PMS1__L1A0000564539-MSS1_180.png\n",
      "[🚗] 正在用 PP-LiteSeg 道路模型推理图像：../photo\\GF2_PMS1__L1A0000564539-MSS1_180.png\n",
      "[✅] 成功读取道路分割结果：../output/test\\pseudo_color_prediction\\GF2_PMS1__L1A0000564539-MSS1_180.png\n",
      "[🚀] 正在用 PP-LiteSeg 推理图像（多分类）：../photo\\GF2_PMS1__L1A0000564539-MSS1_180.png\n"
     ]
    },
    {
     "name": "stderr",
     "output_type": "stream",
     "text": [
      " 85%|████████▌ | 70/82 [10:14<01:44,  8.69s/it]"
     ]
    },
    {
     "name": "stdout",
     "output_type": "stream",
     "text": [
      "[✅] 成功读取输出文件：../output/test\\pseudo_color_prediction\\GF2_PMS1__L1A0000564539-MSS1_180.png\n",
      "[✅] 已保存至 ../output/vis/GF2_PMS1__L1A0000564539-MSS1_180_*.png\n",
      "\n",
      "[🚀] 正在处理：GF2_PMS1__L1A0000564539-MSS1_181.png\n",
      "[🚗] 正在用 PP-LiteSeg 道路模型推理图像：../photo\\GF2_PMS1__L1A0000564539-MSS1_181.png\n",
      "[✅] 成功读取道路分割结果：../output/test\\pseudo_color_prediction\\GF2_PMS1__L1A0000564539-MSS1_181.png\n",
      "[🚀] 正在用 PP-LiteSeg 推理图像（多分类）：../photo\\GF2_PMS1__L1A0000564539-MSS1_181.png\n"
     ]
    },
    {
     "name": "stderr",
     "output_type": "stream",
     "text": [
      " 87%|████████▋ | 71/82 [10:22<01:32,  8.44s/it]"
     ]
    },
    {
     "name": "stdout",
     "output_type": "stream",
     "text": [
      "[✅] 成功读取输出文件：../output/test\\pseudo_color_prediction\\GF2_PMS1__L1A0000564539-MSS1_181.png\n",
      "[✅] 已保存至 ../output/vis/GF2_PMS1__L1A0000564539-MSS1_181_*.png\n",
      "\n",
      "[🚀] 正在处理：GF2_PMS1__L1A0000564539-MSS1_182.png\n",
      "[🚗] 正在用 PP-LiteSeg 道路模型推理图像：../photo\\GF2_PMS1__L1A0000564539-MSS1_182.png\n",
      "[✅] 成功读取道路分割结果：../output/test\\pseudo_color_prediction\\GF2_PMS1__L1A0000564539-MSS1_182.png\n",
      "[🚀] 正在用 PP-LiteSeg 推理图像（多分类）：../photo\\GF2_PMS1__L1A0000564539-MSS1_182.png\n"
     ]
    },
    {
     "name": "stderr",
     "output_type": "stream",
     "text": [
      " 88%|████████▊ | 72/82 [10:30<01:23,  8.31s/it]"
     ]
    },
    {
     "name": "stdout",
     "output_type": "stream",
     "text": [
      "[✅] 成功读取输出文件：../output/test\\pseudo_color_prediction\\GF2_PMS1__L1A0000564539-MSS1_182.png\n",
      "[✅] 已保存至 ../output/vis/GF2_PMS1__L1A0000564539-MSS1_182_*.png\n",
      "\n",
      "[🚀] 正在处理：image copy.png\n",
      "[🚗] 正在用 PP-LiteSeg 道路模型推理图像：../photo\\image copy.png\n",
      "[✅] 成功读取道路分割结果：../output/test\\pseudo_color_prediction\\image copy.png\n",
      "[🚀] 正在用 PP-LiteSeg 推理图像（多分类）：../photo\\image copy.png\n",
      "[✅] 成功读取输出文件：../output/test\\pseudo_color_prediction\\image copy.png\n"
     ]
    },
    {
     "name": "stderr",
     "output_type": "stream",
     "text": [
      " 89%|████████▉ | 73/82 [10:40<01:20,  8.90s/it]"
     ]
    },
    {
     "name": "stdout",
     "output_type": "stream",
     "text": [
      "[✅] 已保存至 ../output/vis/image copy_*.png\n",
      "\n",
      "[🚀] 正在处理：Snipaste_2025-04-06_23-44-24.jpg\n",
      "[🚗] 正在用 PP-LiteSeg 道路模型推理图像：../photo\\Snipaste_2025-04-06_23-44-24.jpg\n",
      "[✅] 成功读取道路分割结果：../output/test\\pseudo_color_prediction\\Snipaste_2025-04-06_23-44-24.png\n",
      "[🚀] 正在用 PP-LiteSeg 推理图像（多分类）：../photo\\Snipaste_2025-04-06_23-44-24.jpg\n",
      "[✅] 成功读取输出文件：../output/test\\pseudo_color_prediction\\Snipaste_2025-04-06_23-44-24.png\n"
     ]
    },
    {
     "name": "stderr",
     "output_type": "stream",
     "text": [
      " 90%|█████████ | 74/82 [10:49<01:10,  8.82s/it]"
     ]
    },
    {
     "name": "stdout",
     "output_type": "stream",
     "text": [
      "[✅] 已保存至 ../output/vis/Snipaste_2025-04-06_23-44-24_*.png\n",
      "\n",
      "[🚀] 正在处理：Snipaste_2025-04-06_23-48-33.jpg\n",
      "[🚗] 正在用 PP-LiteSeg 道路模型推理图像：../photo\\Snipaste_2025-04-06_23-48-33.jpg\n",
      "[✅] 成功读取道路分割结果：../output/test\\pseudo_color_prediction\\Snipaste_2025-04-06_23-48-33.png\n",
      "[🚀] 正在用 PP-LiteSeg 推理图像（多分类）：../photo\\Snipaste_2025-04-06_23-48-33.jpg\n",
      "[✅] 成功读取输出文件：../output/test\\pseudo_color_prediction\\Snipaste_2025-04-06_23-48-33.png\n"
     ]
    },
    {
     "name": "stderr",
     "output_type": "stream",
     "text": [
      " 91%|█████████▏| 75/82 [10:57<01:01,  8.76s/it]"
     ]
    },
    {
     "name": "stdout",
     "output_type": "stream",
     "text": [
      "[✅] 已保存至 ../output/vis/Snipaste_2025-04-06_23-48-33_*.png\n",
      "\n",
      "[🚀] 正在处理：wh0412.jpg\n",
      "[🚗] 正在用 PP-LiteSeg 道路模型推理图像：../photo\\wh0412.jpg\n",
      "[✅] 成功读取道路分割结果：../output/test\\pseudo_color_prediction\\wh0412.png\n",
      "[🚀] 正在用 PP-LiteSeg 推理图像（多分类）：../photo\\wh0412.jpg\n"
     ]
    },
    {
     "name": "stderr",
     "output_type": "stream",
     "text": [
      " 93%|█████████▎| 76/82 [11:05<00:51,  8.55s/it]"
     ]
    },
    {
     "name": "stdout",
     "output_type": "stream",
     "text": [
      "[✅] 成功读取输出文件：../output/test\\pseudo_color_prediction\\wh0412.png\n",
      "[✅] 已保存至 ../output/vis/wh0412_*.png\n",
      "\n",
      "[🚀] 正在处理：wh0413.jpg\n",
      "[🚗] 正在用 PP-LiteSeg 道路模型推理图像：../photo\\wh0413.jpg\n",
      "[✅] 成功读取道路分割结果：../output/test\\pseudo_color_prediction\\wh0413.png\n",
      "[🚀] 正在用 PP-LiteSeg 推理图像（多分类）：../photo\\wh0413.jpg\n"
     ]
    },
    {
     "name": "stderr",
     "output_type": "stream",
     "text": [
      " 94%|█████████▍| 77/82 [11:13<00:41,  8.38s/it]"
     ]
    },
    {
     "name": "stdout",
     "output_type": "stream",
     "text": [
      "[✅] 成功读取输出文件：../output/test\\pseudo_color_prediction\\wh0413.png\n",
      "[✅] 已保存至 ../output/vis/wh0413_*.png\n",
      "\n",
      "[🚀] 正在处理：wh0414.jpg\n",
      "[🚗] 正在用 PP-LiteSeg 道路模型推理图像：../photo\\wh0414.jpg\n",
      "[✅] 成功读取道路分割结果：../output/test\\pseudo_color_prediction\\wh0414.png\n",
      "[🚀] 正在用 PP-LiteSeg 推理图像（多分类）：../photo\\wh0414.jpg\n"
     ]
    },
    {
     "name": "stderr",
     "output_type": "stream",
     "text": [
      " 95%|█████████▌| 78/82 [11:21<00:32,  8.24s/it]"
     ]
    },
    {
     "name": "stdout",
     "output_type": "stream",
     "text": [
      "[✅] 成功读取输出文件：../output/test\\pseudo_color_prediction\\wh0414.png\n",
      "[✅] 已保存至 ../output/vis/wh0414_*.png\n",
      "\n",
      "[🚀] 正在处理：wh0415.jpg\n",
      "[🚗] 正在用 PP-LiteSeg 道路模型推理图像：../photo\\wh0415.jpg\n",
      "[✅] 成功读取道路分割结果：../output/test\\pseudo_color_prediction\\wh0415.png\n",
      "[🚀] 正在用 PP-LiteSeg 推理图像（多分类）：../photo\\wh0415.jpg\n"
     ]
    },
    {
     "name": "stderr",
     "output_type": "stream",
     "text": [
      " 96%|█████████▋| 79/82 [11:29<00:24,  8.15s/it]"
     ]
    },
    {
     "name": "stdout",
     "output_type": "stream",
     "text": [
      "[✅] 成功读取输出文件：../output/test\\pseudo_color_prediction\\wh0415.png\n",
      "[✅] 已保存至 ../output/vis/wh0415_*.png\n",
      "\n",
      "[🚀] 正在处理：wh0416.jpg\n",
      "[🚗] 正在用 PP-LiteSeg 道路模型推理图像：../photo\\wh0416.jpg\n",
      "[✅] 成功读取道路分割结果：../output/test\\pseudo_color_prediction\\wh0416.png\n",
      "[🚀] 正在用 PP-LiteSeg 推理图像（多分类）：../photo\\wh0416.jpg\n"
     ]
    },
    {
     "name": "stderr",
     "output_type": "stream",
     "text": [
      " 98%|█████████▊| 80/82 [11:37<00:16,  8.14s/it]"
     ]
    },
    {
     "name": "stdout",
     "output_type": "stream",
     "text": [
      "[✅] 成功读取输出文件：../output/test\\pseudo_color_prediction\\wh0416.png\n",
      "[✅] 已保存至 ../output/vis/wh0416_*.png\n",
      "\n",
      "[🚀] 正在处理：wh0419.jpg\n",
      "[🚗] 正在用 PP-LiteSeg 道路模型推理图像：../photo\\wh0419.jpg\n",
      "[✅] 成功读取道路分割结果：../output/test\\pseudo_color_prediction\\wh0419.png\n",
      "[🚀] 正在用 PP-LiteSeg 推理图像（多分类）：../photo\\wh0419.jpg\n"
     ]
    },
    {
     "name": "stderr",
     "output_type": "stream",
     "text": [
      " 99%|█████████▉| 81/82 [11:45<00:08,  8.09s/it]"
     ]
    },
    {
     "name": "stdout",
     "output_type": "stream",
     "text": [
      "[✅] 成功读取输出文件：../output/test\\pseudo_color_prediction\\wh0419.png\n",
      "[✅] 已保存至 ../output/vis/wh0419_*.png\n",
      "\n",
      "[🚀] 正在处理：wh0420.jpg\n",
      "[🚗] 正在用 PP-LiteSeg 道路模型推理图像：../photo\\wh0420.jpg\n",
      "[✅] 成功读取道路分割结果：../output/test\\pseudo_color_prediction\\wh0420.png\n",
      "[🚀] 正在用 PP-LiteSeg 推理图像（多分类）：../photo\\wh0420.jpg\n"
     ]
    },
    {
     "name": "stderr",
     "output_type": "stream",
     "text": [
      "100%|██████████| 82/82 [11:53<00:00,  8.70s/it]"
     ]
    },
    {
     "name": "stdout",
     "output_type": "stream",
     "text": [
      "[✅] 成功读取输出文件：../output/test\\pseudo_color_prediction\\wh0420.png\n",
      "[✅] 已保存至 ../output/vis/wh0420_*.png\n"
     ]
    },
    {
     "name": "stderr",
     "output_type": "stream",
     "text": [
      "\n"
     ]
    }
   ],
   "source": [
    "import os\n",
    "from PIL import Image\n",
    "import numpy as np\n",
    "from skimage import io\n",
    "from infer_all import road_seg, all_seg, overlay_mask_on_image\n",
    "from tqdm import tqdm\n",
    "\n",
    "# 类别映射表（0~6） → RGB\n",
    "id2color = np.array(\n",
    "    [\n",
    "        [0, 0, 0],  # 0 - 背景\n",
    "        [220, 20, 60],  # 1 - 建筑\n",
    "        [128, 64, 128],  # 2 - 道路\n",
    "        [0, 0, 255],  # 3 - 水体\n",
    "        [210, 180, 140],  # 4 - 裸土\n",
    "        [34, 139, 34],  # 5 - 林地\n",
    "        [255, 255, 0],  # 6 - 耕地\n",
    "    ],\n",
    "    dtype=np.uint8,\n",
    ")\n",
    "\n",
    "# 设置路径\n",
    "photo_dir = \"../photo\"\n",
    "output_dir = \"../output/vis\"\n",
    "os.makedirs(output_dir, exist_ok=True)\n",
    "\n",
    "# 遍历所有图像\n",
    "for filename in tqdm(os.listdir(photo_dir)):\n",
    "    if filename.lower().endswith((\".png\", \".jpg\", \".jpeg\", \".tif\")):\n",
    "        image_path = os.path.join(photo_dir, filename)\n",
    "        image_name = os.path.splitext(filename)[0]\n",
    "\n",
    "        print(f\"[🚀] 正在处理：{filename}\")\n",
    "\n",
    "        # 1. 分割\n",
    "        road_mask = road_seg(\n",
    "            image_path=image_path,\n",
    "            config_path=\"configs/road_seg/pp_liteseg_stdc1_deepglobe_infer.yml\",\n",
    "            model_path=\"pp_liteseg_stdc1_deepglobe.pdparams\",\n",
    "            save_dir=\"../output/test\",\n",
    "        )\n",
    "\n",
    "        mask = all_seg(\n",
    "            image_path=image_path,\n",
    "            config_path=\"configs/segmenter/segmenter_rural2.yml\",\n",
    "            model_path=\"../output/segmenter_rural2/best_model/model.pdparams\",\n",
    "            save_dir=\"../output/test\",\n",
    "        )\n",
    "\n",
    "        # 2. 替换道路类\n",
    "        mask[road_mask == 1] = 2\n",
    "\n",
    "        # 3. 加载原图并构造 overlay\n",
    "        img = np.array(Image.open(image_path).convert(\"RGB\"))\n",
    "        overlay = overlay_mask_on_image(img, mask, id2color, alpha=0.3)\n",
    "\n",
    "        # 4. 保存三张图：原图 / mask 彩色图 / 叠加图\n",
    "        Image.fromarray(img).save(os.path.join(output_dir, f\"{image_name}_img.png\"))\n",
    "        Image.fromarray(id2color[mask]).save(\n",
    "            os.path.join(output_dir, f\"{image_name}_mask.png\")\n",
    "        )\n",
    "        Image.fromarray(overlay).save(\n",
    "            os.path.join(output_dir, f\"{image_name}_overlay.png\")\n",
    "        )\n",
    "\n",
    "        print(f\"[✅] 已保存至 {output_dir}/{image_name}_*.png\\n\")"
   ]
  },
  {
   "cell_type": "code",
   "execution_count": null,
   "id": "cbf18d9f",
   "metadata": {},
   "outputs": [],
   "source": [
    "mask_type_list = np.unique(mask)\n",
    "print(mask_type_list)\n",
    "print(\"本图片含有的分割类型\")\n",
    "df_label.loc[list(mask_type_list)]"
   ]
  },
  {
   "cell_type": "code",
   "execution_count": null,
   "id": "a04f902d868d158b",
   "metadata": {
    "ExecuteTime": {
     "end_time": "2025-04-09T06:54:21.568043900Z",
     "start_time": "2025-04-09T06:54:21.408516300Z"
    },
    "collapsed": false
   },
   "outputs": [],
   "source": [
    "io.imshow(mask)"
   ]
  },
  {
   "cell_type": "code",
   "execution_count": null,
   "id": "13061d051b51da9c",
   "metadata": {
    "collapsed": false
   },
   "outputs": [],
   "source": []
  }
 ],
 "metadata": {
  "kernelspec": {
   "display_name": "ps_3",
   "language": "python",
   "name": "python3"
  },
  "language_info": {
   "codemirror_mode": {
    "name": "ipython",
    "version": 3
   },
   "file_extension": ".py",
   "mimetype": "text/x-python",
   "name": "python",
   "nbconvert_exporter": "python",
   "pygments_lexer": "ipython3",
   "version": "3.9.21"
  }
 },
 "nbformat": 4,
 "nbformat_minor": 5
}
