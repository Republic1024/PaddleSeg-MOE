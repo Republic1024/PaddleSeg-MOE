{
 "cells": [
  {
   "cell_type": "code",
   "execution_count": null,
   "id": "3b6a3603eba1ef93",
   "metadata": {
    "ExecuteTime": {
     "end_time": "2025-04-09T06:41:27.254098100Z",
     "start_time": "2025-04-09T06:41:27.242002100Z"
    },
    "collapsed": false
   },
   "outputs": [],
   "source": [
    "# !python tools/predict.py --config configs/segmenter/segmenter_rural2.yml --model_path ../output/segmenter_rural2/best_model/model.pdparams  --image_path ../photo/1167.png --save_dir ../output/test"
   ]
  },
  {
   "cell_type": "markdown",
   "id": "070e9562",
   "metadata": {},
   "source": [
    "\n",
    "### 🧪 项目简介：遥感图像多类分割（基于 PP-LiteSeg）\n",
    "\n",
    "本项目基于 **PaddleSeg 提供的 PP-LiteSeg 模型**，用于遥感图像的语义分割任务。数据中包含多种地物标签，模型可输出多类别的像素级分割结果。PPLiteseg: Road Segment, Segmenter: multiple Segment\n",
    "\n",
    "#### 📌 多分类标签说明：\n",
    "\n",
    "| 类别编号 | 类别名称（英文） | 类别名称（中文） | 说明 |\n",
    "|----------|------------------|------------------|------|\n",
    "| 0        | background       | 背景              | 通常为未分类区域 |\n",
    "| 1        | building         | 建筑              | 房屋、厂房等 |\n",
    "| 2        | road             | 道路              | 包括主干道、辅路等 |\n",
    "| 3        | water            | 水体              | 包括河流、湖泊等 |\n",
    "| 4        | barren           | 裸土              | 裸露土地、沙地等 |\n",
    "| 5        | forest           | 林地              | 森林、树木等 |\n",
    "| 6        | agriculture      | 耕地              | 农田、种植区域 |\n"
   ]
  },
  {
   "cell_type": "code",
   "execution_count": null,
   "id": "5e8959e3",
   "metadata": {},
   "outputs": [],
   "source": [
    "import pandas as pd\n",
    "# 定义表格数据\n",
    "df_label = {\n",
    "    \"类别编号\": [0, 1, 2, 3, 4, 5, 6],\n",
    "    \"类别名称（英文）\": [\"background\", \"building\", \"road\", \"water\", \"barren\", \"forest\", \"agriculture\"],\n",
    "    \"类别名称（中文）\": [\"背景\", \"建筑\", \"道路\", \"水体\", \"裸土\", \"林地\", \"耕地\"],\n",
    "    \"说明\": [\n",
    "        \"通常为未分类区域\",\n",
    "        \"房屋、厂房等\",\n",
    "        \"包括主干道、辅路等\",\n",
    "        \"包括河流、湖泊等\",\n",
    "        \"裸露土地、沙地等\",\n",
    "        \"森林、树木等\",\n",
    "        \"农田、种植区域\"\n",
    "    ]\n",
    "}\n",
    "df_label = pd.DataFrame(df_label)\n",
    "df_label"
   ]
  },
  {
   "cell_type": "code",
   "execution_count": 46,
   "id": "c8e389ee83604ad0",
   "metadata": {
    "ExecuteTime": {
     "end_time": "2025-04-09T06:50:03.099193800Z",
     "start_time": "2025-04-09T06:49:59.405768800Z"
    },
    "collapsed": false
   },
   "outputs": [
    {
     "name": "stdout",
     "output_type": "stream",
     "text": [
      "[🚗] 正在用 PP-LiteSeg 道路模型推理图像：../photo/1160.png\n",
      "[✅] 成功读取道路分割结果：../output/test\\pseudo_color_prediction\\1160.png\n",
      "[🚀] 正在用 PP-LiteSeg 推理图像（多分类）：../photo/1160.png\n",
      "[✅] 成功读取输出文件：../output/test\\pseudo_color_prediction\\1160.png\n",
      "[🚗] 正在用 PP-LiteSeg 道路模型推理图像：../photo/1160.png\n",
      "[✅] 成功读取道路分割结果：output/test\\pseudo_color_prediction\\1160.png\n",
      "[🚀] 正在用 PP-LiteSeg 推理图像（多分类）：../photo/1160.png\n",
      "[✅] 成功读取输出文件：../output/test\\pseudo_color_prediction\\1160.png\n"
     ]
    }
   ],
   "source": [
    "import os\n",
    "import numpy as np\n",
    "from PIL import Image\n",
    "import subprocess\n",
    "import matplotlib.pyplot as plt\n",
    "import warnings\n",
    "import pandas as pd\n",
    "import seaborn as sns\n",
    "from pylab import mpl\n",
    "from skimage import io\n",
    "\n",
    "# 配置 Notebook 的字体和风格\n",
    "warnings.filterwarnings('ignore')\n",
    "sns.set_style(\"white\")\n",
    "mpl.rcParams['font.family'] = 'MiSans'\n",
    "\n",
    "# 🚀 多分类分割函数（全图多标签推理）\n",
    "def all_seg(\n",
    "    image_path: str,\n",
    "    config_path: str = \"configs/segmenter/segmenter_rural2.yml\",\n",
    "    model_path: str = \"../output/segmenter_rural2/best_model/model.pdparams\",\n",
    "    save_dir: str = \"../output/test\"\n",
    ") -> np.ndarray:\n",
    "    \"\"\"\n",
    "    使用 PP-LiteSeg 多分类模型对输入图像进行分割预测。\n",
    "\n",
    "    参数:\n",
    "        image_path (str): 输入图像路径\n",
    "        config_path (str): PaddleSeg 配置文件路径\n",
    "        model_path (str): PaddleSeg 模型权重路径\n",
    "        save_dir (str): 结果输出路径\n",
    "\n",
    "    返回:\n",
    "        mask_np (np.ndarray): 分割输出的 mask 数组\n",
    "    \"\"\"\n",
    "    cmd = [\n",
    "        \"python\", \"tools/predict.py\",\n",
    "        \"--config\", config_path,\n",
    "        \"--model_path\", model_path,\n",
    "        \"--image_path\", image_path,\n",
    "        \"--save_dir\", save_dir\n",
    "    ]\n",
    "\n",
    "    print(f\"[🚀] 正在用 PP-LiteSeg 推理图像（多分类）：{image_path}\")\n",
    "    subprocess.run(cmd, check=True)\n",
    "\n",
    "    image_name = os.path.splitext(os.path.basename(image_path))[0]\n",
    "    mask_path = os.path.join(save_dir, \"pseudo_color_prediction\", f\"{image_name}.png\")\n",
    "\n",
    "    if not os.path.exists(mask_path):\n",
    "        raise FileNotFoundError(f\"[❌] 未找到预测输出文件：{mask_path}\")\n",
    "    else:\n",
    "        print(f\"[✅] 成功读取输出文件：{mask_path}\")\n",
    "\n",
    "    mask_img = Image.open(mask_path)\n",
    "    return np.array(mask_img)\n",
    "\n",
    "\n",
    "# 🚗 道路单类别分割函数（仅提取 road 类）\n",
    "def road_seg(\n",
    "    image_path: str,\n",
    "    config_path: str = \"configs/road_seg/pp_liteseg_stdc1_deepglobe_infer.yml\",\n",
    "    model_path: str = \"pp_liteseg_stdc1_deepglobe.pdparams\",\n",
    "    save_dir: str = \"../output/test\"\n",
    ") -> np.ndarray:\n",
    "    \"\"\"\n",
    "    使用 PP-LiteSeg 道路分割模型对图像进行推理。\n",
    "\n",
    "    参数:\n",
    "        image_path (str): 输入图像路径\n",
    "        config_path (str): 模型配置文件路径\n",
    "        model_path (str): 模型权重路径\n",
    "        save_dir (str): 输出目录\n",
    "\n",
    "    返回:\n",
    "        mask_np (np.ndarray): 推理后道路掩码图像数组\n",
    "    \"\"\"\n",
    "    print(f\"[🚗] 正在用 PP-LiteSeg 道路模型推理图像：{image_path}\")\n",
    "    cmd = [\n",
    "        \"python\", \"tools/predict.py\",\n",
    "        \"--config\", config_path,\n",
    "        \"--model_path\", model_path,\n",
    "        \"--image_path\", image_path,\n",
    "        \"--save_dir\", save_dir\n",
    "    ]\n",
    "\n",
    "    subprocess.run(cmd, check=True)\n",
    "\n",
    "    image_name = os.path.splitext(os.path.basename(image_path))[0]\n",
    "    output_path = os.path.join(save_dir, \"pseudo_color_prediction\", f\"{image_name}.png\")\n",
    "\n",
    "    if not os.path.exists(output_path):\n",
    "        print(f\"[❌] 道路分割输出未生成：{output_path}\")\n",
    "        return None\n",
    "    else:\n",
    "        print(f\"[✅] 成功读取道路分割结果：{output_path}\")\n",
    "        mask_img = Image.open(output_path)\n",
    "        return np.array(mask_img)\n",
    "\n",
    "\n",
    "# 示例调用（推荐放在 notebook 的代码单元中）\n",
    "test_image = \"../photo/1160.png\"\n",
    "road_mask = road_seg(test_image)\n",
    "mask = all_seg(test_image)\n",
    "mask_2 = mask.copy()\n",
    "\n",
    "# 🚀 示例调用（推荐放在 notebook 的代码单元中）\n",
    "\n",
    "test_image = \"../photo/1160.png\"\n",
    "\n",
    "# ✅ 道路分割模型（只分出 road 类）\n",
    "road_mask = road_seg(\n",
    "    image_path=test_image,\n",
    "    config_path=\"configs/road_seg/pp_liteseg_stdc1_deepglobe_infer.yml\",\n",
    "    model_path=\"pp_liteseg_stdc1_deepglobe.pdparams\",\n",
    "    save_dir=\"output/test\"\n",
    ")\n",
    "\n",
    "# ✅ 多类地物分割模型（输出0~6的语义mask）\n",
    "mask = all_seg(\n",
    "    image_path=test_image,\n",
    "    config_path=\"configs/segmenter/segmenter_rural2.yml\",\n",
    "    model_path=\"../output/segmenter_rural2/best_model/model.pdparams\",\n",
    "    save_dir=\"../output/test\"\n",
    ")\n",
    "\n",
    "# ✅ 可选备份一份副本（用于后续处理）\n",
    "mask_2 = mask.copy()\n",
    "\n"
   ]
  },
  {
   "cell_type": "code",
   "execution_count": null,
   "id": "8672748800e8bc2b",
   "metadata": {
    "ExecuteTime": {
     "end_time": "2025-04-09T06:52:15.933563200Z",
     "start_time": "2025-04-09T06:52:15.768895100Z"
    },
    "collapsed": false
   },
   "outputs": [],
   "source": [
    "print(\"Mask shape:\", mask.shape)\n",
    "print(np.unique(mask))  # total 7 type\n",
    "print(road_mask.shape,mask.shape)\n",
    "io.imshow(mask)"
   ]
  },
  {
   "cell_type": "code",
   "execution_count": null,
   "id": "f47a5242",
   "metadata": {},
   "outputs": [],
   "source": [
    "# mask = mask_2.copy()"
   ]
  },
  {
   "cell_type": "code",
   "execution_count": null,
   "id": "6852d5f7de247de9",
   "metadata": {
    "ExecuteTime": {
     "end_time": "2025-04-09T06:54:10.666253500Z",
     "start_time": "2025-04-09T06:54:10.647450500Z"
    },
    "collapsed": false
   },
   "outputs": [],
   "source": [
    "mask[road_mask == 1] = 2# 2: road\n",
    "mask"
   ]
  },
  {
   "cell_type": "code",
   "execution_count": null,
   "id": "cbf18d9f",
   "metadata": {},
   "outputs": [],
   "source": [
    "mask_type_list = np.unique(mask)\n",
    "print(mask_type_list)\n",
    "print(\"本图片含有的分割类型\")\n",
    "df_label.loc[list(mask_type_list)] "
   ]
  },
  {
   "cell_type": "code",
   "execution_count": null,
   "id": "b6f58590",
   "metadata": {},
   "outputs": [],
   "source": [
    "import numpy as np\n",
    "\n",
    "# 构造类别编号到 RGB 的映射（索引即为类别编号）\n",
    "id2color = np.array([\n",
    "    [0, 0, 0],         # 0 - 背景\n",
    "    [220, 20, 60],     # 1 - 建筑\n",
    "    [128, 64, 128],    # 2 - 道路\n",
    "    [0, 0, 255],       # 3 - 水体\n",
    "    [210, 180, 140],   # 4 - 裸土\n",
    "    [34, 139, 34],     # 5 - 林地\n",
    "    [255, 255, 0]      # 6 - 耕地\n",
    "], dtype=np.uint8)\n",
    "\n",
    "from PIL import Image\n",
    "import numpy as np\n",
    "\n",
    "def overlay_mask_on_image(img: np.ndarray, mask: np.ndarray, colormap: np.ndarray, alpha: float = 0.5) -> np.ndarray:\n",
    "    \"\"\"\n",
    "    使用 PIL 实现透明叠加：将 mask 映射为彩色图，并叠加到原图上。\n",
    "\n",
    "    参数:\n",
    "        img (np.ndarray): 原始图像（RGB），shape = (H, W, 3)\n",
    "        mask (np.ndarray): 分割掩码（0-6的类别编号），shape = (H, W)\n",
    "        colormap (np.ndarray): 类别编号到 RGB 的映射表，shape = (N, 3)\n",
    "        alpha (float): 叠加透明度（0-1）\n",
    "\n",
    "    返回:\n",
    "        np.ndarray: 叠加后的图像（uint8, RGB）\n",
    "    \"\"\"\n",
    "    # 映射 mask -> RGB 彩色图\n",
    "    mask_rgb = colormap[mask]  # shape = (H, W, 3)\n",
    "\n",
    "    # 转为 float 做加权\n",
    "    img_f = img.astype(np.float32)\n",
    "    mask_f = mask_rgb.astype(np.float32)\n",
    "\n",
    "    # 透明叠加\n",
    "    blended = (1 - alpha) * img_f + alpha * mask_f\n",
    "    blended = blended.clip(0, 255).astype(np.uint8)\n",
    "\n",
    "    return blended\n",
    "\n",
    "\n",
    "# 读取图像（确保是 RGB）\n",
    "img = np.array(Image.open(test_image).convert(\"RGB\"))\n",
    "\n",
    "# 假设 mask 已是 0~6 的类别编号矩阵\n",
    "# mask = ...\n",
    "\n",
    "# 类别映射（前面定义的 id2color）\n",
    "colored_overlay = overlay_mask_on_image(img, mask, id2color, alpha=0.6)\n",
    "\n",
    "io.imshow(colored_overlay)\n"
   ]
  },
  {
   "cell_type": "code",
   "execution_count": null,
   "id": "a04f902d868d158b",
   "metadata": {
    "ExecuteTime": {
     "end_time": "2025-04-09T06:54:21.568043900Z",
     "start_time": "2025-04-09T06:54:21.408516300Z"
    },
    "collapsed": false
   },
   "outputs": [],
   "source": [
    "io.imshow(mask)"
   ]
  },
  {
   "cell_type": "code",
   "execution_count": null,
   "id": "13061d051b51da9c",
   "metadata": {
    "collapsed": false
   },
   "outputs": [],
   "source": []
  }
 ],
 "metadata": {
  "kernelspec": {
   "display_name": "ps_3",
   "language": "python",
   "name": "python3"
  },
  "language_info": {
   "codemirror_mode": {
    "name": "ipython",
    "version": 3
   },
   "file_extension": ".py",
   "mimetype": "text/x-python",
   "name": "python",
   "nbconvert_exporter": "python",
   "pygments_lexer": "ipython3",
   "version": "3.9.21"
  }
 },
 "nbformat": 4,
 "nbformat_minor": 5
}
